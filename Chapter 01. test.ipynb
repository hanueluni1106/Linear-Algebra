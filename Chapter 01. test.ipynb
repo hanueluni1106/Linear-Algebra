{
 "cells": [
  {
   "cell_type": "markdown",
   "metadata": {},
   "source": [
    "# Hello python\n",
    "## hello python\n",
    "###### hello python\n"
   ]
  },
  {
   "cell_type": "code",
   "execution_count": null,
   "metadata": {},
   "outputs": [],
   "source": []
  },
  {
   "attachments": {
    "image.png": {
     "image/png": "[encoded data removed]"
    }
   },
   "cell_type": "markdown",
   "metadata": {},
   "source": [
    "![image.png](attachment:image.png) \n",
    "*let's see the* **equation**\n",
    " - python\n",
    "  - numoy\n",
    "   - depth1\n",
    "   - depth2\n",
    "    - depth3\n",
    "  - pandas\n",
    "  \n",
    "1. python\n",
    "2. java\n",
    "3. c++\n",
    "\n",
    "> you lucky rascal! 이 운수좋은 녀석아!\n",
    "\n",
    "> 파이썬은 재밌다고 하더라....\n",
    "\n",
    "$y = 3x$\n",
    "\n",
    "```python\n",
    "a = 10\n",
    "print(a)\n",
    "```\n",
    "\n",
    "[파이썬공식사이트](https://drive.google.com/drive/folders/18PgCrfREijNbcmLIEcMAtLk-Zy4xGHB8)"
   ]
  },
  {
   "cell_type": "code",
   "execution_count": null,
   "metadata": {},
   "outputs": [],
   "source": []
  }
 ],
 "metadata": {
  "kernelspec": {
   "display_name": "Python 3",
   "language": "python",
   "name": "python3"
  },
  "language_info": {
   "codemirror_mode": {
    "name": "ipython",
    "version": 3
   },
   "file_extension": ".py",
   "mimetype": "text/x-python",
   "name": "python",
   "nbconvert_exporter": "python",
   "pygments_lexer": "ipython3",
   "version": "3.7.4"
  }
 },
 "nbformat": 4,
 "nbformat_minor": 2
}
